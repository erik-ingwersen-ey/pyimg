{
 "cells": [
  {
   "cell_type": "markdown",
   "id": "397555b2-8155-4cbc-b084-edb557c0d9a9",
   "metadata": {
    "pycharm": {
     "name": "#%% md\n"
    },
    "tags": []
   },
   "source": [
    "# Exemplo 2: MNIST ConvNet\n",
    "\n",
    "**Nível de dificuldade:** <font color=Orange>médio</font>"
   ]
  },
  {
   "cell_type": "markdown",
   "id": "0379c4f5-4aa2-4711-ac50-194be4473b2c",
   "metadata": {
    "pycharm": {
     "name": "#%% md\n"
    },
    "tags": []
   },
   "source": [
    "# Importando as bibliotecas necessárias\n",
    "\n",
    "Para o exemplo em questão, serão utilizadas as seguintes bibliotecas:\n",
    "\n",
    "- [Matplotlib](https://matplotlib.org/stable/index.html#installation)\n",
    "- [Numpy](https://numpy.org/install/)\n",
    "- [Tensorflow](https://www.tensorflow.org/install)\n",
    "\n",
    "\n",
    "```{tip}\n",
    "Acesse os links listados acima, para maiores informações de como instalar as bibliotecas que serão utilizadas.\n",
    "```\n",
    "\n",
    "## Quickstart\n",
    "\n",
    "Você também pode utilizar o comando abaixo, para instalar ambas bibliotecas necessárias.\n",
    "\n",
    "```bash\n",
    "$ pip install numpy tensorflow matplotlib\n",
    "```\n",
    "\n",
    "```{attention}\n",
    "O código acima não irá instalar os pacotes, caso alguma versão deles já exista no seu environment. Dependendo de qual for essa versão, isso pode vir a ser um problema. Para solucionar o problema, você poderia realizar um update dos pacotes (ver código abaixo), no entanto fazer isso pode causar problemas para outras bibliotecas instaladas no seu environment, que necessitem das versões instaladas atualmente. Por isso, <b><font color=red>eu recomendo fortemente que você crie um environment separado para esta demo, antes de executar o comando.</font></b>\n",
    "```\n",
    "\n",
    "```bash\n",
    "$ pip install --upgrade numpy tensorflow matplotlib\n",
    "```\n",
    "\n",
    "## Criando um environment para a demo\n",
    "\n",
    "As instruções abaixo mostram o passo-a-passo de como criar um environment novo usando o [Anaconda](https://anaconda.cloud/installers).\n",
    "\n",
    "<b>Passo 1:</b> Criando o novo environment\n",
    "\n",
    "Abra uma janela da linha de comando e, execute o seguinte comando:\n",
    "\n",
    "```bash\n",
    "$ conda create -N demo-pyimg -y python==3.9\n",
    "```\n",
    "\n",
    "O comando irá criar um novo environment chamado **demo-pyimg**, utilizando a versão 3.9 do Python.\n",
    "Você pode alterar o nome do environment, para o nome que você quiser. Quanto à versão do python, \n",
    "eu recomendo utilizar uma das seguintes versões: 3.8, 3.9, ou 3.10.\n",
    "\n",
    "<b>Passo 2:</b> Ativando o novo environment\n",
    "\n",
    "Para ativar o environment criado, execute o seguinte comando:\n",
    "\n",
    "```bash\n",
    "$ conda activate demo-pyimg\n",
    "```\n",
    "\n",
    ":::{note}\n",
    "Você também pode ver uma lista de environments disponíveis, utilizando o comando abaixo:\n",
    "\n",
    "```{code-block} bash\n",
    "---\n",
    "lineno-start: 1\n",
    "emphasize-lines: 1\n",
    "caption: List conda environments\n",
    "---\n",
    "$ conda env list\n",
    "```\n",
    "\n",
    "No meu caso, o comando acima retorna a seguinte lista:\n",
    "\n",
    "```{code-block} bash\n",
    "$ conda env list\n",
    "\n",
    "# conda environments:\n",
    "                         /Users/erikingwersen/opt/anaconda3\n",
    "base                     /opt/anaconda3\n",
    "DinoRunMl                /opt/anaconda3/envs/DinoRunMl\n",
    "FEM                      /opt/anaconda3/envs/FEM\n",
    "dataops                  /opt/anaconda3/envs/dataops\n",
    "demo                     /opt/anaconda3/envs/demo\n",
    "django-dashboard         /opt/anaconda3/envs/django-dashboard\n",
    "foobar                   /opt/anaconda3/envs/foobar\n",
    "ge_tutorials             /opt/anaconda3/envs/ge_tutorials\n",
    "gpt3-demos               /opt/anaconda3/envs/gpt3-demos\n",
    "nni                      /opt/anaconda3/envs/nni\n",
    "pandas-dev               /opt/anaconda3/envs/pandas-dev\n",
    "phoneix                  /opt/anaconda3/envs/phoneix\n",
    "py10                     /opt/anaconda3/envs/py10\n",
    "pyml                  *  /opt/anaconda3/envs/pyml\n",
    "sparky                   /opt/anaconda3/envs/sparky\n",
    "testml                   /opt/anaconda3/envs/testml\n",
    "tf-metal                 /opt/anaconda3/envs/tf-metal\n",
    "workspace                /opt/anaconda3/envs/workspace\n",
    "```\n",
    "\n",
    ":::"
   ]
  },
  {
   "cell_type": "code",
   "execution_count": 1,
   "id": "adc55b87-4796-470a-9166-9aa5afb22a72",
   "metadata": {
    "collapsed": true,
    "jupyter": {
     "outputs_hidden": true
    },
    "pycharm": {
     "name": "#%%\n"
    },
    "tags": []
   },
   "outputs": [
    {
     "name": "stdout",
     "output_type": "stream",
     "text": [
      "Requirement already satisfied: numpy in /opt/anaconda3/envs/pyml/lib/python3.8/site-packages (1.22.3)\n",
      "Requirement already satisfied: tensorflow in /opt/anaconda3/envs/pyml/lib/python3.8/site-packages (2.8.0)\n",
      "Requirement already satisfied: matplotlib in /opt/anaconda3/envs/pyml/lib/python3.8/site-packages (3.5.1)\n",
      "Requirement already satisfied: absl-py>=0.4.0 in /opt/anaconda3/envs/pyml/lib/python3.8/site-packages (from tensorflow) (1.0.0)\n",
      "Requirement already satisfied: termcolor>=1.1.0 in /opt/anaconda3/envs/pyml/lib/python3.8/site-packages (from tensorflow) (1.1.0)\n",
      "Requirement already satisfied: wrapt>=1.11.0 in /opt/anaconda3/envs/pyml/lib/python3.8/site-packages (from tensorflow) (1.13.3)\n",
      "Requirement already satisfied: protobuf>=3.9.2 in /opt/anaconda3/envs/pyml/lib/python3.8/site-packages (from tensorflow) (3.19.4)\n",
      "Requirement already satisfied: tensorboard<2.9,>=2.8 in /opt/anaconda3/envs/pyml/lib/python3.8/site-packages (from tensorflow) (2.8.0)\n",
      "Requirement already satisfied: flatbuffers>=1.12 in /opt/anaconda3/envs/pyml/lib/python3.8/site-packages (from tensorflow) (2.0)\n",
      "Requirement already satisfied: typing-extensions>=3.6.6 in /opt/anaconda3/envs/pyml/lib/python3.8/site-packages (from tensorflow) (4.1.1)\n",
      "Requirement already satisfied: google-pasta>=0.1.1 in /opt/anaconda3/envs/pyml/lib/python3.8/site-packages (from tensorflow) (0.2.0)\n",
      "Requirement already satisfied: opt-einsum>=2.3.2 in /opt/anaconda3/envs/pyml/lib/python3.8/site-packages (from tensorflow) (3.3.0)\n",
      "Requirement already satisfied: tensorflow-io-gcs-filesystem>=0.23.1 in /opt/anaconda3/envs/pyml/lib/python3.8/site-packages (from tensorflow) (0.24.0)\n",
      "Requirement already satisfied: astunparse>=1.6.0 in /opt/anaconda3/envs/pyml/lib/python3.8/site-packages (from tensorflow) (1.6.3)\n",
      "Requirement already satisfied: gast>=0.2.1 in /opt/anaconda3/envs/pyml/lib/python3.8/site-packages (from tensorflow) (0.5.3)\n",
      "Requirement already satisfied: keras<2.9,>=2.8.0rc0 in /opt/anaconda3/envs/pyml/lib/python3.8/site-packages (from tensorflow) (2.8.0)\n",
      "Requirement already satisfied: six>=1.12.0 in /opt/anaconda3/envs/pyml/lib/python3.8/site-packages (from tensorflow) (1.16.0)\n",
      "Requirement already satisfied: setuptools in /opt/anaconda3/envs/pyml/lib/python3.8/site-packages (from tensorflow) (60.9.3)\n",
      "Requirement already satisfied: h5py>=2.9.0 in /opt/anaconda3/envs/pyml/lib/python3.8/site-packages (from tensorflow) (3.6.0)\n",
      "Requirement already satisfied: keras-preprocessing>=1.1.1 in /opt/anaconda3/envs/pyml/lib/python3.8/site-packages (from tensorflow) (1.1.2)\n",
      "Requirement already satisfied: grpcio<2.0,>=1.24.3 in /opt/anaconda3/envs/pyml/lib/python3.8/site-packages (from tensorflow) (1.44.0)\n",
      "Requirement already satisfied: tf-estimator-nightly==2.8.0.dev2021122109 in /opt/anaconda3/envs/pyml/lib/python3.8/site-packages (from tensorflow) (2.8.0.dev2021122109)\n",
      "Requirement already satisfied: libclang>=9.0.1 in /opt/anaconda3/envs/pyml/lib/python3.8/site-packages (from tensorflow) (13.0.0)\n",
      "Requirement already satisfied: cycler>=0.10 in /opt/anaconda3/envs/pyml/lib/python3.8/site-packages (from matplotlib) (0.11.0)\n",
      "Requirement already satisfied: pyparsing>=2.2.1 in /opt/anaconda3/envs/pyml/lib/python3.8/site-packages (from matplotlib) (2.4.2)\n",
      "Requirement already satisfied: packaging>=20.0 in /opt/anaconda3/envs/pyml/lib/python3.8/site-packages (from matplotlib) (21.3)\n",
      "Requirement already satisfied: python-dateutil>=2.7 in /opt/anaconda3/envs/pyml/lib/python3.8/site-packages (from matplotlib) (2.8.2)\n",
      "Requirement already satisfied: kiwisolver>=1.0.1 in /opt/anaconda3/envs/pyml/lib/python3.8/site-packages (from matplotlib) (1.3.2)\n",
      "Requirement already satisfied: fonttools>=4.22.0 in /opt/anaconda3/envs/pyml/lib/python3.8/site-packages (from matplotlib) (4.29.1)\n",
      "Requirement already satisfied: pillow>=6.2.0 in /opt/anaconda3/envs/pyml/lib/python3.8/site-packages (from matplotlib) (9.0.1)\n",
      "Requirement already satisfied: wheel<1.0,>=0.23.0 in /opt/anaconda3/envs/pyml/lib/python3.8/site-packages (from astunparse>=1.6.0->tensorflow) (0.37.1)\n",
      "Requirement already satisfied: google-auth<3,>=1.6.3 in /opt/anaconda3/envs/pyml/lib/python3.8/site-packages (from tensorboard<2.9,>=2.8->tensorflow) (1.35.0)\n",
      "Requirement already satisfied: tensorboard-data-server<0.7.0,>=0.6.0 in /opt/anaconda3/envs/pyml/lib/python3.8/site-packages (from tensorboard<2.9,>=2.8->tensorflow) (0.6.1)\n",
      "Requirement already satisfied: werkzeug>=0.11.15 in /opt/anaconda3/envs/pyml/lib/python3.8/site-packages (from tensorboard<2.9,>=2.8->tensorflow) (2.0.3)\n",
      "Requirement already satisfied: markdown>=2.6.8 in /opt/anaconda3/envs/pyml/lib/python3.8/site-packages (from tensorboard<2.9,>=2.8->tensorflow) (3.3.6)\n",
      "Requirement already satisfied: google-auth-oauthlib<0.5,>=0.4.1 in /opt/anaconda3/envs/pyml/lib/python3.8/site-packages (from tensorboard<2.9,>=2.8->tensorflow) (0.4.6)\n",
      "Requirement already satisfied: tensorboard-plugin-wit>=1.6.0 in /opt/anaconda3/envs/pyml/lib/python3.8/site-packages (from tensorboard<2.9,>=2.8->tensorflow) (1.8.1)\n",
      "Requirement already satisfied: requests<3,>=2.21.0 in /opt/anaconda3/envs/pyml/lib/python3.8/site-packages (from tensorboard<2.9,>=2.8->tensorflow) (2.25.1)\n",
      "Requirement already satisfied: rsa<5,>=3.1.4 in /opt/anaconda3/envs/pyml/lib/python3.8/site-packages (from google-auth<3,>=1.6.3->tensorboard<2.9,>=2.8->tensorflow) (4.8)\n",
      "Requirement already satisfied: pyasn1-modules>=0.2.1 in /opt/anaconda3/envs/pyml/lib/python3.8/site-packages (from google-auth<3,>=1.6.3->tensorboard<2.9,>=2.8->tensorflow) (0.2.8)\n",
      "Requirement already satisfied: cachetools<5.0,>=2.0.0 in /opt/anaconda3/envs/pyml/lib/python3.8/site-packages (from google-auth<3,>=1.6.3->tensorboard<2.9,>=2.8->tensorflow) (4.2.4)\n",
      "Requirement already satisfied: requests-oauthlib>=0.7.0 in /opt/anaconda3/envs/pyml/lib/python3.8/site-packages (from google-auth-oauthlib<0.5,>=0.4.1->tensorboard<2.9,>=2.8->tensorflow) (1.3.1)\n",
      "Requirement already satisfied: importlib-metadata>=4.4 in /opt/anaconda3/envs/pyml/lib/python3.8/site-packages (from markdown>=2.6.8->tensorboard<2.9,>=2.8->tensorflow) (4.11.1)\n",
      "Requirement already satisfied: zipp>=0.5 in /opt/anaconda3/envs/pyml/lib/python3.8/site-packages (from importlib-metadata>=4.4->markdown>=2.6.8->tensorboard<2.9,>=2.8->tensorflow) (3.7.0)\n",
      "Requirement already satisfied: pyasn1<0.5.0,>=0.4.6 in /opt/anaconda3/envs/pyml/lib/python3.8/site-packages (from pyasn1-modules>=0.2.1->google-auth<3,>=1.6.3->tensorboard<2.9,>=2.8->tensorflow) (0.4.8)\n",
      "Requirement already satisfied: idna<3,>=2.5 in /opt/anaconda3/envs/pyml/lib/python3.8/site-packages (from requests<3,>=2.21.0->tensorboard<2.9,>=2.8->tensorflow) (2.10)\n",
      "Requirement already satisfied: chardet<5,>=3.0.2 in /Users/erikingwersen/.local/lib/python3.8/site-packages (from requests<3,>=2.21.0->tensorboard<2.9,>=2.8->tensorflow) (4.0.0)\n",
      "Requirement already satisfied: certifi>=2017.4.17 in /opt/anaconda3/envs/pyml/lib/python3.8/site-packages (from requests<3,>=2.21.0->tensorboard<2.9,>=2.8->tensorflow) (2021.10.8)\n",
      "Requirement already satisfied: urllib3<1.27,>=1.21.1 in /opt/anaconda3/envs/pyml/lib/python3.8/site-packages (from requests<3,>=2.21.0->tensorboard<2.9,>=2.8->tensorflow) (1.26.8)\n",
      "Requirement already satisfied: oauthlib>=3.0.0 in /opt/anaconda3/envs/pyml/lib/python3.8/site-packages (from requests-oauthlib>=0.7.0->google-auth-oauthlib<0.5,>=0.4.1->tensorboard<2.9,>=2.8->tensorflow) (3.2.0)\n",
      "Note: you may need to restart the kernel to use updated packages.\n"
     ]
    }
   ],
   "source": [
    "!pip install numpy tensorflow matplotlib"
   ]
  },
  {
   "cell_type": "markdown",
   "id": "38c39469-6bb9-403e-a927-20db959d317a",
   "metadata": {
    "pycharm": {
     "name": "#%% md\n"
    }
   },
   "source": [
    "## Pacotes Opcionais\n",
    "\n",
    "Pacotes opcionais para execução do código da seção: [Arquitetura do modelo (Opcional)](#arq-modelo)"
   ]
  },
  {
   "cell_type": "code",
   "execution_count": null,
   "id": "8b73022b-51a2-4060-afe7-fc010b907715",
   "metadata": {
    "pycharm": {
     "name": "#%%\n"
    }
   },
   "outputs": [],
   "source": [
    "!pip install graphviz pydot"
   ]
  },
  {
   "cell_type": "markdown",
   "id": "694a4111-07ae-45da-91ad-db51edaa6c9e",
   "metadata": {
    "pycharm": {
     "name": "#%% md\n"
    }
   },
   "source": [
    "## Importando pacotes necessários"
   ]
  },
  {
   "cell_type": "code",
   "execution_count": 3,
   "id": "07b83f82-1df0-483e-a58b-4a65ee50ccaa",
   "metadata": {
    "pycharm": {
     "name": "#%%\n"
    }
   },
   "outputs": [],
   "source": [
    "from __future__ import annotations\n",
    "from typing import List, Any, Tuple, Iterable\n",
    "import random\n",
    "import os\n",
    "from pathlib import Path\n",
    "\n",
    "import matplotlib.pyplot as plt\n",
    "import numpy as np\n",
    "from tensorflow import keras\n",
    "from tensorflow.keras import layers"
   ]
  },
  {
   "cell_type": "markdown",
   "id": "a7009cfa-a4a3-408c-abea-b6a420573fc3",
   "metadata": {
    "pycharm": {
     "name": "#%% md\n"
    },
    "tags": []
   },
   "source": [
    "# Obtendo os dados do problema\n",
    "\n",
    "A próxima linha de código realiza o download dos dados a serem utilizados.\n",
    "A base será salva dentro do diretório `data/MNIST`.\n",
    "\n",
    ":::{note}\n",
    "As bases serão baixadas apenas uma vez. Execuções subsequentes carregarão o arquivo salvo em: `data/MNIST/mnist.npz`.\n",
    ":::\n",
    "\n",
    "**Fonte dos dados:** [MNIST homepage](http://yann.lecun.com/exdb/mnist/)\n",
    "\n",
    "**Função:** keras.datasets.mnist.load_data(path='mnist.npz')\n",
    "\n",
    "**Descrição:** Baixa e carrega o dataset MNIST.\n",
    "\n",
    "**Retorna:** tupla de tuplas de arrays [NumPy](https://numpy.org/doc/stable/user/quickstart.html), com os seguintes objetos: `(x_train, y_train), (x_test, y_test)`. Onde:\n",
    "\n",
    "\n",
    "- `x_train (np.ndarray[60000, 28, 28])`: 60.000 arrays de tamanho 28x28, representando o conjunto de imagens a serem utilizadas para treino do modelo.\n",
    "- `y_train (np.ndarray[60000])`: 60.000 labels, com valores entre 0 e 9, representando cada um dos dígitos de `x_train`.\n",
    "- `x_test (np.ndarray[10000, 28, 28])`: 10.000 arrays de tamanho 28x28, representando o conjunto de imagens a serem utilizadas para teste do modelo.\n",
    "- `y_test (np.ndarray[10000])`: 10.000 labels, com valores entre 0 e 9, representando cada um dos dígitos de `x_test`."
   ]
  },
  {
   "cell_type": "code",
   "execution_count": 4,
   "id": "7fe57958-7a61-4245-9e75-5d68732e3a87",
   "metadata": {
    "pycharm": {
     "name": "#%%\n"
    }
   },
   "outputs": [],
   "source": [
    "data_dir = Path.cwd().joinpath(r'data/MNIST')\n",
    "data_dir.mkdir(parents=True, exist_ok=True)\n",
    "mnist_fpath = data_dir.joinpath('mnist').with_suffix('.npz')"
   ]
  },
  {
   "cell_type": "code",
   "execution_count": 5,
   "id": "a948653c-65f1-4b81-8f7c-8367852fc74a",
   "metadata": {
    "pycharm": {
     "name": "#%%\n"
    }
   },
   "outputs": [],
   "source": [
    "# the data, split between train and test sets\n",
    "(x_train, y_train), (x_test, y_test) = keras.datasets.mnist.load_data(path=str(mnist_fpath))"
   ]
  },
  {
   "cell_type": "markdown",
   "id": "f5b4a075-e055-4820-8837-c197cc697e26",
   "metadata": {
    "pycharm": {
     "name": "#%% md\n"
    }
   },
   "source": [
    "## Visualizando os dados\n",
    "\n",
    "Visualizando os dados do problema."
   ]
  },
  {
   "cell_type": "code",
   "execution_count": 6,
   "id": "7e6d3724-62c3-4971-9804-1efb3e5248cd",
   "metadata": {
    "pycharm": {
     "name": "#%%\n"
    }
   },
   "outputs": [
    {
     "data": {
      "image/png": "[encoded data removed]",
      "text/plain": [
       "<Figure size 576x576 with 1 Axes>"
      ]
     },
     "metadata": {
      "needs_background": "light"
     },
     "output_type": "display_data"
    }
   ],
   "source": [
    "plt.figure(figsize=(8, 8))\n",
    "plt.imshow(x_train[0], cmap='gray')\n",
    "plt.title(f'Digit \\\"{y_train[0]}\\\"', fontsize=20)\n",
    "plt.show()"
   ]
  },
  {
   "cell_type": "markdown",
   "id": "b630f336-6046-4464-93f8-befa7055dc65",
   "metadata": {
    "pycharm": {
     "name": "#%% md\n"
    }
   },
   "source": [
    "## Refatorando...\n",
    "\n",
    "Criando a função `plot_imgs`, para ajudar na visualização das imagens."
   ]
  },
  {
   "cell_type": "code",
   "execution_count": 4,
   "id": "fc74907a-a219-4bd5-b7a2-c2914b3f1181",
   "metadata": {
    "pycharm": {
     "name": "#%%\n"
    }
   },
   "outputs": [],
   "source": [
    "def plot_imgs(\n",
    "    imgs: List[np.ndarray],\n",
    "    labels: List[Any] | None = None,\n",
    "    cols: int = 5,\n",
    "    figsize: Tuple[int, int] | None = None, \n",
    "    maxsize: int = 30,\n",
    "    cmap: str = 'gray',\n",
    ") -> None:\n",
    "    \"\"\"Plot an array of images. \n",
    "    \n",
    "    Parameters\n",
    "    ----------\n",
    "    imgs: List[np.ndarray]\n",
    "        List of images.\n",
    "    labels: List[Any] | None, optional\n",
    "        List of labels for each image. If no label is specified,\n",
    "        then each figure is plotted without label.\n",
    "    cols: int, optional\n",
    "        Number of columns to plot. Defaults to 5.\n",
    "    figsize: Tuple[int, int], optional\n",
    "        Figure size. If no value specified, then function\n",
    "        uses `figsize = (12, 3 * rows)`.\n",
    "    maxsize: int, optional\n",
    "        Maximum number of images to plot.\n",
    "    cmap: str, optional\n",
    "        Colormap of each plot. Defaults to \"gray\".\n",
    "    \"\"\"\n",
    "    if imgs.ndim == 2:\n",
    "        imgs = [imgs]\n",
    "\n",
    "    num_imgs = len(imgs)\n",
    "    maxsize = min(num_imgs, maxsize)\n",
    "    rows = int(np.ceil(maxsize/cols))\n",
    "    cols = min(cols, num_imgs)\n",
    "\n",
    "    if figsize is None:\n",
    "        figsize = (12, 3 * rows)\n",
    "    \n",
    "    fig, axes = plt.subplots(nrows=rows, ncols=cols, figsize=figsize)\n",
    "    \n",
    "    current_col = 0\n",
    "    current_row = -1\n",
    "    \n",
    "    for i, img in enumerate(imgs[:maxsize]):\n",
    "        \n",
    "        _current_col = i // cols\n",
    "        \n",
    "        if current_col != _current_col:\n",
    "            current_row = 0\n",
    "            current_col += 1\n",
    "        else:\n",
    "            current_row += 1\n",
    "        if rows <= 1:\n",
    "            ax = axes[current_row] \n",
    "        else:\n",
    "            ax = axes[current_col, current_row]\n",
    "        \n",
    "        ax.imshow(img, cmap=cmap)\n",
    "        ax.axis('off')\n",
    "        \n",
    "        if labels is not None and len(labels) >= i + 1:\n",
    "            ax.set_title(labels[i], fontsize=int(252/max(14, len(str(labels[i])))))\n",
    "\n",
    "    plt.show()"
   ]
  },
  {
   "cell_type": "code",
   "execution_count": 20,
   "id": "4b6afd01-042c-45c8-91f4-3dca3160c588",
   "metadata": {
    "pycharm": {
     "name": "#%%\n"
    }
   },
   "outputs": [
    {
     "data": {
      "image/png": "[encoded data removed]",
      "text/plain": [
       "<Figure size 864x1296 with 30 Axes>"
      ]
     },
     "metadata": {
      "needs_background": "light"
     },
     "output_type": "display_data"
    }
   ],
   "source": [
    "plot_imgs(x_train, y_train)"
   ]
  },
  {
   "cell_type": "markdown",
   "id": "f32d792f-ccb5-48e9-bc7a-09e31c769d0b",
   "metadata": {
    "pycharm": {
     "name": "#%% md\n"
    },
    "tags": []
   },
   "source": [
    "# Normalizando os dados"
   ]
  },
  {
   "cell_type": "markdown",
   "id": "653d505b-eade-4383-9371-f921e4dad576",
   "metadata": {
    "pycharm": {
     "name": "#%% md\n"
    },
    "tags": []
   },
   "source": [
    "## Normalizando as imagens\n",
    "\n",
    "Como as imagens já vem pré-processadas, o único tratamento que iremos aplicar é uma normalização dos píxels de cada imagem.\n",
    "Cada píxel possui um valor que varia de 0 à 255. Iremos converte-los em valores entre 0 e 1. \n",
    "Existem diversos métodos de normalização que podemos aplicar para normalizar dados (tanto para imagens quanto dados tabulares).\n",
    "O método escolhido para o problema chama-se **min-max scaler** que utiliza a seguinte fórmula:\n",
    "\n",
    "$$X_{scaled}^{min-max} = \\frac{X - X_{min}}{X_{max} - X_{min}}$$\n",
    "\n",
    "Onde:\n",
    "\n",
    "$X\\,\\,\\rightarrow{}$ Cada píxel de cada imagem.\n",
    "\n",
    "$X_{min}\\,\\,\\rightarrow{}$ Píxel com o **menor** valor (0 no nosso caso).\n",
    "\n",
    "$X_{max}\\,\\,\\rightarrow{}$ Píxel com o **maior** valor (255 no nosso caso).\n"
   ]
  },
  {
   "cell_type": "code",
   "execution_count": 239,
   "id": "6a8ea300-cf5f-48f0-a83e-e8b91c248b9b",
   "metadata": {
    "pycharm": {
     "name": "#%%\n"
    }
   },
   "outputs": [],
   "source": [
    "max_pixel = x_train.max()  # 255\n",
    "\n",
    "# Convertendo pixels para valores entre 0 e 1.\n",
    "x_train_norm = x_train.astype(\"float32\") / max_pixel\n",
    "x_test_norm = x_test.astype(\"float32\") / max_pixel\n"
   ]
  },
  {
   "cell_type": "code",
   "execution_count": 241,
   "id": "b9f84e50-5632-406f-8df1-6cea1e0e303d",
   "metadata": {
    "pycharm": {
     "name": "#%%\n"
    }
   },
   "outputs": [
    {
     "name": "stdout",
     "output_type": "stream",
     "text": [
      "x_train shape: \u001b[94m\u001b[1m(60000, 28, 28, 1)\u001b[0m\n",
      "Quantidade de imagens a serem utilizadas durante o treino: \u001b[94m\u001b[1m60,000 imagens\u001b[0m\n",
      "Quantidade de imagens a serem utilizadas durante o teste: \u001b[94m\u001b[1m10,000 imagens\u001b[0m\n"
     ]
    }
   ],
   "source": [
    "# Convertendo dimensão das imagens para: (28, 28, 1)\n",
    "x_train_norm = np.expand_dims(x_train_norm, -1)\n",
    "x_test_norm = np.expand_dims(x_test_norm, -1)\n",
    "\n",
    "print(f\"x_train shape: \\033[94m\\033[1m{x_train_norm.shape}\\033[0m\")\n",
    "print(f\"Quantidade de imagens a serem utilizadas durante o treino: \\033[94m\\033[1m{x_train_norm.shape[0]:,} imagens\\033[0m\")\n",
    "print(f\"Quantidade de imagens a serem utilizadas durante o teste: \\033[94m\\033[1m{x_test_norm.shape[0]:,} imagens\\033[0m\")"
   ]
  },
  {
   "cell_type": "markdown",
   "id": "63c1b943-9ce0-426c-afaf-145b6fd1bd80",
   "metadata": {
    "pycharm": {
     "name": "#%% md\n"
    },
    "tags": []
   },
   "source": [
    "## Normalizando as labels\n",
    "\n",
    "Agora, precisamos converter cada um dos labels, em uma lista de binários.\n",
    "\n",
    "Por exemplo, o label \"5\", será convertido em:\n",
    "\n",
    "```\n",
    "\n",
    "  0   1   2   3   4   5   6   7   8   9\n",
    "[0., 0., 0., 0., 0., 1., 0., 0., 0., 0.]\n",
    "                     │\n",
    "                     └── sexta posição, logo, 5.\n",
    "```\n",
    "\n",
    "**Demais labels:**\n",
    "\n",
    "\n",
    "**Label 0:**\n",
    "```\n",
    "  0   1   2   3   4   5   6   7   8   9\n",
    "[1., 0., 0., 0., 0., 0., 0., 0., 0., 0.]\n",
    "  │\n",
    "  └── primeira posição, logo, 0.\n",
    "```\n",
    "**Label 1:**\n",
    "\n",
    "```\n",
    "  0   1   2   3   4   5   6   7   8   9\n",
    "[0., 0., 0., 0., 0., 1., 0., 0., 0., 0.]\n",
    "     │\n",
    "     └── segunda posição, logo, 1.\n",
    "```\n",
    "**Label 2:**\n",
    "\n",
    "```\n",
    "  0   1   2   3   4   5   6   7   8   9\n",
    "[0., 0., 0., 0., 0., 1., 0., 0., 0., 0.]\n",
    "         │\n",
    "         └── terceira posição, logo, 2.\n",
    "```\n",
    "**Label 3:**\n",
    "\n",
    "```\n",
    "  0   1   2   3   4   5   6   7   8   9\n",
    "[0., 0., 0., 0., 0., 1., 0., 0., 0., 0.]\n",
    "             │\n",
    "             └── quarta posição, logo, 3.\n",
    "```\n",
    "**Label 4:**\n",
    "\n",
    "```\n",
    "  0   1   2   3   4   5   6   7   8   9\n",
    "[0., 0., 0., 0., 0., 1., 0., 0., 0., 0.]\n",
    "                 │\n",
    "                 └── quinta posição, logo, 4.\n",
    "```\n",
    "**Label 5:**\n",
    "\n",
    "```\n",
    "  0   1   2   3   4   5   6   7   8   9\n",
    "[0., 0., 0., 0., 0., 1., 0., 0., 0., 0.]\n",
    "                     │\n",
    "                     └── sexta posição, logo, 5.\n",
    "```\n",
    "**Label 6:**\n",
    "\n",
    "```\n",
    "  0   1   2   3   4   5   6   7   8   9\n",
    "[0., 0., 0., 0., 0., 1., 0., 0., 0., 0.]\n",
    "                         │\n",
    "                         └── sétima posição, logo, 6.\n",
    "```\n",
    "**Label 7:**\n",
    "\n",
    "```\n",
    "  0   1   2   3   4   5   6   7   8   9\n",
    "[0., 0., 0., 0., 0., 1., 0., 0., 0., 0.]\n",
    "                             │\n",
    "                             └── oitava posição, logo, 7.\n",
    "```\n",
    "**Label 8:**\n",
    "\n",
    "```\n",
    "  0   1   2   3   4   5   6   7   8   9\n",
    "[0., 0., 0., 0., 0., 1., 0., 0., 0., 0.]\n",
    "                                 │\n",
    "                                 └── nona posição, logo, 8.\n",
    "```\n",
    "**Label 9:**\n",
    "\n",
    "```\n",
    "  0   1   2   3   4   5   6   7   8   9\n",
    "[0., 0., 0., 0., 0., 1., 0., 0., 0., 0.]\n",
    "                                     │\n",
    "                                     └── décima posição, logo, 9.\n",
    "```"
   ]
  },
  {
   "cell_type": "markdown",
   "id": "112678d1-7a21-4f17-b2b1-e3337eeaeb33",
   "metadata": {
    "pycharm": {
     "name": "#%% md\n"
    }
   },
   "source": [
    "### **Opção 1:** criando uma função própria para conversão"
   ]
  },
  {
   "cell_type": "code",
   "execution_count": 213,
   "id": "f515f312-c9bc-419f-95de-d35b2a7b1a8f",
   "metadata": {
    "pycharm": {
     "name": "#%%\n"
    }
   },
   "outputs": [],
   "source": [
    "def label_binarizer(labels: Iterable):\n",
    "    \"\"\"\n",
    "    Convert labels into lists of binary labels.\n",
    "    \n",
    "    Function performs the following actions:\n",
    "    \n",
    "    1. Retrieves set of unique labels, sorted.\n",
    "    2. Determines number of unique labels that exist.\n",
    "    3. Creates dictionary with each unique label's binarized translation.\n",
    "    4. Applies translation to every label.\n",
    "    \n",
    "    Parameters\n",
    "    ----------\n",
    "    labels: Iterable\n",
    "        List of labels to binarize.\n",
    "        \n",
    "    Returns\n",
    "    -------\n",
    "    Tuple[np.ndarray, dict]\n",
    "        Numpy array with binarized labels as floats, and dictionary with translations.\n",
    "    \n",
    "    Examples\n",
    "    --------\n",
    "    For example, consider the following list of labels:\n",
    "    \n",
    "    .. code-block:: python\n",
    "    \n",
    "        >>> example_labels = [2, 3, 2, 2, 5]\n",
    "        >>> binary_labels, translation_dict = label_binarizer(example_labels)\n",
    "        >>> print(binary_labels)\n",
    "        [[1. 0. 0.]\n",
    "         [0. 1. 0.]\n",
    "         [1. 0. 0.]\n",
    "         [1. 0. 0.]\n",
    "         [0. 0. 1.]]\n",
    "        >>> print(translation_dict)\n",
    "        {'2': [1, 0, 0], '3': [0, 1, 0], '5': [0, 0, 1]}\n",
    "\n",
    "    Function accepts multiple kinds of iterables as input:\n",
    "    \n",
    "    .. code-block:: python\n",
    "    \n",
    "        >>> import numpy as np\n",
    "        >>> example_labels = np.array([2, 3, 2, 2, 5])\n",
    "        >>> print(label_binarizer(example_labels)[0])\n",
    "        [[1. 0. 0.]\n",
    "         [0. 1. 0.]\n",
    "         [1. 0. 0.]\n",
    "         [1. 0. 0.]\n",
    "         [0. 0. 1.]]\n",
    "    \"\"\"\n",
    "    \n",
    "    unique_labels = sorted(set(labels))\n",
    "    nunique_labels = len(unique_labels)\n",
    "    \n",
    "    labels_binarized = {\n",
    "        label: [0]*nunique_labels\n",
    "        for label in unique_labels\n",
    "    }\n",
    "    for idx, unique_label in enumerate(unique_labels):\n",
    "        labels_binarized[unique_label][idx] = 1\n",
    "    return np.array([labels_binarized[label] for label in labels]).astype('float32'), labels_binarized\n"
   ]
  },
  {
   "cell_type": "markdown",
   "id": "266a4754-bce5-4deb-ac4c-b155525826de",
   "metadata": {
    "pycharm": {
     "name": "#%% md\n"
    }
   },
   "source": [
    "### **Opção 2:** utilizando a função `keras.utils.to_categorical`"
   ]
  },
  {
   "cell_type": "code",
   "execution_count": 220,
   "id": "727d5a02-94f4-4824-a471-83e1b4ef376f",
   "metadata": {
    "pycharm": {
     "name": "#%%\n"
    }
   },
   "outputs": [],
   "source": [
    "num_classes = len(set(y_train))      # 10 classes possíveis -> (0, 1, 2, 3, 4, 5, 6, 7, 8, 9).\n",
    "\n",
    "y_train_norm = keras.utils.to_categorical(y_train, num_classes)\n",
    "y_test_norm = keras.utils.to_categorical(y_test, num_classes)\n"
   ]
  },
  {
   "cell_type": "markdown",
   "id": "51f4669b-8d00-4a1a-8065-bfba9b684566",
   "metadata": {
    "pycharm": {
     "name": "#%% md\n"
    },
    "tags": []
   },
   "source": [
    "# Criando o modelo\n",
    "\n",
    "Agora que temos o nosso input normalizado e, os labels processados, podemos criar o nosso modelo:"
   ]
  },
  {
   "cell_type": "code",
   "execution_count": 242,
   "id": "87c91ade-d113-4269-ab86-89b74f1fa14e",
   "metadata": {
    "pycharm": {
     "name": "#%%\n"
    }
   },
   "outputs": [
    {
     "name": "stdout",
     "output_type": "stream",
     "text": [
      "Model: \"sequential_5\"\n",
      "_________________________________________________________________\n",
      " Layer (type)                Output Shape              Param #   \n",
      "=================================================================\n",
      " Conv2D_Layer_1 (Conv2D)     (None, 26, 26, 32)        320       \n",
      "                                                                 \n",
      " MaxPool2D_Layer_1 (MaxPooli  (None, 13, 13, 32)       0         \n",
      " ng2D)                                                           \n",
      "                                                                 \n",
      " Conv2D_Layer_2 (Conv2D)     (None, 11, 11, 64)        18496     \n",
      "                                                                 \n",
      " MaxPool2D_Layer_2 (MaxPooli  (None, 5, 5, 64)         0         \n",
      " ng2D)                                                           \n",
      "                                                                 \n",
      " Flatten_Layer (Flatten)     (None, 1600)              0         \n",
      "                                                                 \n",
      " Dropout_50_percent (Dropout  (None, 1600)             0         \n",
      " )                                                               \n",
      "                                                                 \n",
      " Target_Layer (Dense)        (None, 10)                16010     \n",
      "                                                                 \n",
      "=================================================================\n",
      "Total params: 34,826\n",
      "Trainable params: 34,826\n",
      "Non-trainable params: 0\n",
      "_________________________________________________________________\n"
     ]
    }
   ],
   "source": [
    "# input_shape = (*x_train[0].shape, 1) # \n",
    "input_shape = (28, 28, 1)# -> Tamanho de cada imagem, ou seja, (28 pixels por 28 pixels).\n",
    "\n",
    "model = keras.Sequential(\n",
    "    [\n",
    "        keras.Input(shape=input_shape, name='Input_Layer'),\n",
    "        layers.Conv2D(32, kernel_size=(3, 3), activation=\"relu\", name='Conv2D_Layer_1'),\n",
    "        layers.MaxPooling2D(pool_size=(2, 2), name='MaxPool2D_Layer_1'),\n",
    "        layers.Conv2D(64, kernel_size=(3, 3), activation=\"relu\", name='Conv2D_Layer_2'),\n",
    "        layers.MaxPooling2D(pool_size=(2, 2), name='MaxPool2D_Layer_2'),\n",
    "        layers.Flatten(name='Flatten_Layer'),\n",
    "        layers.Dropout(0.5, name='Dropout_50_percent'),\n",
    "        layers.Dense(num_classes, activation=\"softmax\", name='Target_Layer'),\n",
    "    ]\n",
    ")\n",
    "\n",
    "model.summary()"
   ]
  },
  {
   "cell_type": "markdown",
   "id": "7d3aa252-7925-4e19-94d9-713d167f13e1",
   "metadata": {
    "pycharm": {
     "name": "#%% md\n"
    }
   },
   "source": [
    "<a id='arq-modelo'></a>\n",
    "## Arquitetura do modelo (Opcional)\n",
    "\n",
    "O código abaixo cria uma representação do modelo criado e salva a imagem gerada com o nome `MNIST_EXEMPLO_01.png`, dentro da pasta `outputs/MNIST`.\n",
    "\n",
    "**Observação:** a função `keras.utils.plot_model` requer duas bibliotecas adicionais: [graphviz](https://pypi.org/project/graphviz/) e [pydot](https://pypi.org/project/pydot/). Execute o commando abaixo para instalar as bibliotecas:\n",
    "\n",
    "```bash\n",
    "$ pip install graphviz pydot\n",
    "```"
   ]
  },
  {
   "cell_type": "code",
   "execution_count": 2,
   "id": "9d624ae4-3e02-4cdd-9607-1ca947ea90ea",
   "metadata": {
    "pycharm": {
     "name": "#%%\n"
    }
   },
   "outputs": [
    {
     "name": "stdout",
     "output_type": "stream",
     "text": [
      "Requirement already satisfied: graphviz in /opt/anaconda3/envs/pyml/lib/python3.8/site-packages (0.19.1)\n",
      "Requirement already satisfied: pydot in /opt/anaconda3/envs/pyml/lib/python3.8/site-packages (1.4.2)\n",
      "Requirement already satisfied: pyparsing>=2.1.4 in /opt/anaconda3/envs/pyml/lib/python3.8/site-packages (from pydot) (2.4.2)\n",
      "Note: you may need to restart the kernel to use updated packages.\n"
     ]
    }
   ],
   "source": [
    "!pip install graphviz pydot"
   ]
  },
  {
   "cell_type": "code",
   "execution_count": 243,
   "id": "66473f52-dd7f-4518-af9e-e7aa1f6a4e91",
   "metadata": {
    "pycharm": {
     "name": "#%%\n"
    }
   },
   "outputs": [
    {
     "data": {
      "image/png": "[encoded data removed]",
      "text/plain": [
       "<IPython.core.display.Image object>"
      ]
     },
     "execution_count": 243,
     "metadata": {},
     "output_type": "execute_result"
    }
   ],
   "source": [
    "output_dir = Path.cwd().joinpath('outputs/MNIST')\n",
    "output_dir.mkdir(parents=True, exist_ok=True)\n",
    "\n",
    "\n",
    "keras.utils.plot_model(\n",
    "    model,\n",
    "    to_file=output_dir.joinpath(\"MNIST_EXEMPLO_02\").with_suffix('.png'),\n",
    "    show_shapes=True,\n",
    "    show_dtype=True,\n",
    "    show_layer_names=True,\n",
    "    rankdir=\"TB\",\n",
    "    expand_nested=True,\n",
    "    dpi=96,\n",
    "    show_layer_activations=True,\n",
    ")"
   ]
  },
  {
   "cell_type": "markdown",
   "id": "2900c167-ec96-4fbf-aba5-44821bb4590d",
   "metadata": {
    "pycharm": {
     "name": "#%% md\n"
    }
   },
   "source": [
    "# Treinando o modelo\n",
    "\n",
    "Agora que construímos o nosso modelo, o único passo que resta é treiná-lo."
   ]
  },
  {
   "cell_type": "code",
   "execution_count": 245,
   "id": "7939f016-1365-44a3-a6af-fb1148f3fa36",
   "metadata": {
    "pycharm": {
     "name": "#%%\n"
    }
   },
   "outputs": [
    {
     "name": "stdout",
     "output_type": "stream",
     "text": [
      "Epoch 1/15\n",
      "422/422 [==============================] - 10s 24ms/step - loss: 0.3618 - accuracy: 0.8916 - val_loss: 0.0828 - val_accuracy: 0.9783\n",
      "Epoch 2/15\n",
      "422/422 [==============================] - 9s 22ms/step - loss: 0.1120 - accuracy: 0.9660 - val_loss: 0.0554 - val_accuracy: 0.9857\n",
      "Epoch 3/15\n",
      "422/422 [==============================] - 11s 26ms/step - loss: 0.0825 - accuracy: 0.9746 - val_loss: 0.0472 - val_accuracy: 0.9873\n",
      "Epoch 4/15\n",
      "422/422 [==============================] - 11s 25ms/step - loss: 0.0713 - accuracy: 0.9779 - val_loss: 0.0454 - val_accuracy: 0.9875\n",
      "Epoch 5/15\n",
      "422/422 [==============================] - 10s 24ms/step - loss: 0.0619 - accuracy: 0.9808 - val_loss: 0.0401 - val_accuracy: 0.9887\n",
      "Epoch 6/15\n",
      "422/422 [==============================] - 11s 26ms/step - loss: 0.0555 - accuracy: 0.9828 - val_loss: 0.0349 - val_accuracy: 0.9898\n",
      "Epoch 7/15\n",
      "422/422 [==============================] - 11s 27ms/step - loss: 0.0510 - accuracy: 0.9837 - val_loss: 0.0359 - val_accuracy: 0.9892\n",
      "Epoch 8/15\n",
      "422/422 [==============================] - 11s 26ms/step - loss: 0.0486 - accuracy: 0.9847 - val_loss: 0.0335 - val_accuracy: 0.9905\n",
      "Epoch 9/15\n",
      "422/422 [==============================] - 11s 26ms/step - loss: 0.0438 - accuracy: 0.9863 - val_loss: 0.0302 - val_accuracy: 0.9920\n",
      "Epoch 10/15\n",
      "422/422 [==============================] - 11s 27ms/step - loss: 0.0422 - accuracy: 0.9867 - val_loss: 0.0302 - val_accuracy: 0.9917\n",
      "Epoch 11/15\n",
      "422/422 [==============================] - 12s 28ms/step - loss: 0.0394 - accuracy: 0.9870 - val_loss: 0.0284 - val_accuracy: 0.9918\n",
      "Epoch 12/15\n",
      "422/422 [==============================] - 11s 26ms/step - loss: 0.0373 - accuracy: 0.9881 - val_loss: 0.0277 - val_accuracy: 0.9927\n",
      "Epoch 13/15\n",
      "422/422 [==============================] - 11s 26ms/step - loss: 0.0361 - accuracy: 0.9887 - val_loss: 0.0279 - val_accuracy: 0.9918\n",
      "Epoch 14/15\n",
      "422/422 [==============================] - 11s 26ms/step - loss: 0.0346 - accuracy: 0.9891 - val_loss: 0.0283 - val_accuracy: 0.9933\n",
      "Epoch 15/15\n",
      "422/422 [==============================] - 11s 26ms/step - loss: 0.0325 - accuracy: 0.9892 - val_loss: 0.0300 - val_accuracy: 0.9917\n"
     ]
    },
    {
     "data": {
      "text/plain": [
       "<keras.callbacks.History at 0x7f9efcd16f10>"
      ]
     },
     "execution_count": 245,
     "metadata": {},
     "output_type": "execute_result"
    }
   ],
   "source": [
    "batch_size = 128\n",
    "epochs = 15\n",
    "\n",
    "model.compile(loss=\"categorical_crossentropy\", optimizer=\"adam\", metrics=[\"accuracy\"])\n",
    "model.fit(x_train_norm, y_train_norm, batch_size=batch_size, epochs=epochs, validation_split=0.1)"
   ]
  },
  {
   "cell_type": "markdown",
   "id": "1d4056cf-1588-4eff-8d49-77405df9e20a",
   "metadata": {
    "pycharm": {
     "name": "#%% md\n"
    }
   },
   "source": [
    "# Avaliando o modelo\n",
    "\n",
    "Agora que treinamos o nosso modelo, podemos avaliar a sua real acurácia, introduzindo dados nunca antes vistos pelo modelo.\n",
    "Essa etapa é extremamente importante, para avaliarmos se o modelo durante o treino foi capaz de inferir as características que fazem\n",
    "o dígito 5, ser 5, ou um 4, ser 4, etc."
   ]
  },
  {
   "cell_type": "code",
   "execution_count": 248,
   "id": "01626056-b626-42ac-aae8-a0ee5f9f81c6",
   "metadata": {
    "pycharm": {
     "name": "#%%\n"
    }
   },
   "outputs": [
    {
     "name": "stdout",
     "output_type": "stream",
     "text": [
      "Perdas durante o teste: 0.0252\n",
      "Acurácia do teste: 99.24%\n"
     ]
    }
   ],
   "source": [
    "score = model.evaluate(x_test_norm, y_test_norm, verbose=0)\n",
    "print(f\"Perdas durante o teste: {score[0]:.4f}\")\n",
    "print(f\"Acurácia do teste: {score[1]:.2%}\")"
   ]
  },
  {
   "cell_type": "markdown",
   "id": "05683050-e636-4de4-928e-3df34dc752e0",
   "metadata": {
    "pycharm": {
     "name": "#%% md\n"
    },
    "tags": []
   },
   "source": [
    "## Criando função `predict_img`\n",
    "\n",
    "A função `predict_img` utiliza o modelo treinado para prever uma imagem ou lista de imagens.\n",
    "Ela também utiliza a função `plot_imgs` criada anteriormente para visualizar as imagens."
   ]
  },
  {
   "cell_type": "code",
   "execution_count": 5,
   "id": "c7652ff4-a499-4770-a8a2-fdb73f185580",
   "metadata": {
    "pycharm": {
     "name": "#%%\n"
    }
   },
   "outputs": [],
   "source": [
    "def predict_img(\n",
    "    img: Iterable | np.ndarray, \n",
    "    real_label: Iterable | str | int | None = None,\n",
    "    model: keras.engine.sequential.Sequential = None,\n",
    "    plot_results: bool = True,\n",
    "    **kwargs: Any,\n",
    "):\n",
    "    \"\"\"\n",
    "    Predict the label of an image or array of images.\n",
    "    \n",
    "    Function also normalizes images, if they're not normalized already.\n",
    "    \n",
    "    Parameters\n",
    "    ----------\n",
    "    img : Iterable | np.ndarray\n",
    "        The image to predict.\n",
    "    real_label : Iterable | str | int | None, optional\n",
    "        The real label of the image.\n",
    "        If not None, the predicted label will be displayed next to the real one.\n",
    "    model : keras.engine.sequential.Sequential, optional\n",
    "        The model used to predict the image.\n",
    "        If None, a ValueError will be raised.\n",
    "    plot_results: bool, default: True\n",
    "        Whether to plot the image(s).\n",
    "    **kwargs: Any\n",
    "        Extra keyword arguments to configure `predict_img`.\n",
    "\n",
    "    Returns\n",
    "    -------\n",
    "    preds : List[int]\n",
    "        The predicted label, or labels of the image(s).\n",
    "\n",
    "    Raises\n",
    "    ------\n",
    "    ValueError\n",
    "        If the model is None.\n",
    "\n",
    "    Examples\n",
    "    --------\n",
    "    You can use this function as follows:\n",
    "\n",
    "    .. code-block:: python\n",
    "\n",
    "        # predicts and plots the first five images from test dataset.\n",
    "        predict_img(x_test[0:5], y_test[0:5], model)\n",
    "        \n",
    "        # predicts the first five images from test dataset.\n",
    "        predict_img(x_test[0:5], y_test[0:5], model, plot_results=False)\n",
    "        \n",
    "        # predicts and plots the first five images from normalized test dataset.\n",
    "        predict_img(x_test_norm[0:5], y_test[0:5], model)\n",
    "\n",
    "    \"\"\"\n",
    "    if model is None:\n",
    "        raise ValueError('You need to pass the trained model to the \\\"model\\\" argument')\n",
    "    \n",
    "    _img = img\n",
    "    if not img.ndim == 4:\n",
    "        img = img.reshape(-1, 28, 28, 1)\n",
    "    \n",
    "    sample_size = kwargs.get('sample_size', None)\n",
    "    if isinstance(sample_size, int):\n",
    "        take_samples = min(len(img), sample_size)\n",
    "        if not take_samples == sample_size:\n",
    "            print(\n",
    "                f'The number of samples you\\'re trying to plot ({sample_size}) is greater than the array of '\n",
    "                f'examples you\\'re trying to plot. Selecting {take_samples} samples instead.'\n",
    "            )\n",
    "        indexes = range(0, len(img)-1)\n",
    "        random_indexes = random.sample(indexes, take_samples)\n",
    "        img = np.array([img[index] for index in random_indexes])\n",
    "        if isinstance(real_label, Iterable) and len(real_label) == len(img):\n",
    "            real_label = [real_label[index] for index in random_indexes]\n",
    "    \n",
    "    if kwargs.get('normalize', False):\n",
    "        img = img.astype('float32')/255\n",
    "    _img = img\n",
    "    if not img.ndim == 4:\n",
    "        img = img.reshape(-1, 28, 28, 1)\n",
    "    preds = [np.argmax(pred) for pred in model.predict(img)]\n",
    "    if plot_results:\n",
    "        if isinstance(real_label, Iterable) and len(real_label) == len(preds):\n",
    "            labels_prefix = 'Real Label:'\n",
    "            labels = [f'{real_lbl} / Pred: {pred}' for real_lbl, pred in zip(real_label, preds)]\n",
    "        else:\n",
    "            labels = preds\n",
    "            labels_prefix = 'Predicted Label:'\n",
    "        plot_imgs(_img, labels, labels_prefix)\n",
    "\n",
    "    return preds"
   ]
  },
  {
   "cell_type": "code",
   "execution_count": 331,
   "id": "ffed8b54-f9fb-4793-8be5-963244702e0d",
   "metadata": {
    "pycharm": {
     "name": "#%%\n"
    }
   },
   "outputs": [
    {
     "data": {
      "image/png": "[encoded data removed]",
      "text/plain": [
       "<Figure size 864x216 with 5 Axes>"
      ]
     },
     "metadata": {
      "needs_background": "light"
     },
     "output_type": "display_data"
    },
    {
     "data": {
      "text/plain": [
       "[7, 2, 1, 0, 4]"
      ]
     },
     "execution_count": 331,
     "metadata": {},
     "output_type": "execute_result"
    }
   ],
   "source": [
    "predict_img(x_test[0:5], y_test[0:5], model)"
   ]
  },
  {
   "cell_type": "markdown",
   "id": "0c80c4f0-9b19-4770-8cb5-2ee3a66e3973",
   "metadata": {
    "pycharm": {
     "name": "#%% md\n"
    }
   },
   "source": [
    "## Erros do modelo"
   ]
  },
  {
   "cell_type": "code",
   "execution_count": 332,
   "id": "baeb2188-d68f-4625-86f0-1957d7339684",
   "metadata": {
    "pycharm": {
     "name": "#%%\n"
    }
   },
   "outputs": [],
   "source": [
    "predictions = predict_img(x_test, model=model, plot_results=False)"
   ]
  },
  {
   "cell_type": "code",
   "execution_count": 333,
   "id": "1d03b66f-6d84-4281-aee0-f165fa0bae93",
   "metadata": {
    "pycharm": {
     "name": "#%%\n"
    }
   },
   "outputs": [
    {
     "name": "stdout",
     "output_type": "stream",
     "text": [
      "Modelo errou: 76 de 10,000 (0.76%)\n"
     ]
    }
   ],
   "source": [
    "false_predictions = [\n",
    "    idx for idx, (true_label, predicted_label) in enumerate(zip(y_test, predictions))\n",
    "    if true_label != predicted_label\n",
    "]\n",
    "print(\n",
    "    f'Modelo errou: {len(false_predictions):,} de {len(y_test):,} ({len(false_predictions)/len(y_test):.2%})'\n",
    ")"
   ]
  },
  {
   "cell_type": "code",
   "execution_count": 334,
   "id": "7ce49cc2-d64b-48a5-ac89-6f84fb2e211e",
   "metadata": {
    "pycharm": {
     "name": "#%%\n"
    }
   },
   "outputs": [
    {
     "data": {
      "image/png": "[encoded data removed]",
      "text/plain": [
       "<Figure size 864x1296 with 30 Axes>"
      ]
     },
     "metadata": {
      "needs_background": "light"
     },
     "output_type": "display_data"
    }
   ],
   "source": [
    "false_preds = predict_img(x_test_norm[false_predictions], y_test[false_predictions], model)"
   ]
  },
  {
   "cell_type": "markdown",
   "id": "63be98a7-5569-42b7-9689-8be90a3284fa",
   "metadata": {
    "pycharm": {
     "name": "#%% md\n"
    }
   },
   "source": [
    "# Juntando todos os passos\n",
    "\n",
    "O código abaixo reúne todos os passos descritos anteriormente em uma só classe `MnistPredict`.\n",
    "\n",
    "\n",
    "**Observação:** a classe `MnistPredict` não é um bom exemplo de como juntar todas as partes. Se esse código prescisasse rodar em produção, o \"ideal\" seria converter o problema em funções responsáveis por:\n",
    "\n",
    "- Carregar os dados.\n",
    "- <b><font color=red>Verificar os dados carregados.</font></b>\n",
    "- Normalizar as imagens.\n",
    "- Binarizar as labels.\n",
    "- Dividir os dados em grupos de treino/teste.\n",
    "- Criar o modelo.\n",
    "\n",
    "Com as funções acima criadas, criar uma classe \"central\", para controlar execução das funções listadas acima."
   ]
  },
  {
   "cell_type": "code",
   "execution_count": 41,
   "id": "98aaed89-581b-4a94-9046-1ccce9a9de06",
   "metadata": {
    "pycharm": {
     "name": "#%%\n"
    }
   },
   "outputs": [],
   "source": [
    "def create_model(\n",
    "    input_shape: Tuple[int, int, int], \n",
    "    num_classes: int,\n",
    "    print_summary: bool = False,\n",
    ") -> keras.engine.sequential.Sequential:\n",
    "    model = keras.Sequential(\n",
    "        [\n",
    "            keras.Input(shape=input_shape, name='Input_Layer'),\n",
    "            layers.Conv2D(32, kernel_size=(3, 3), activation=\"relu\", name='Conv2D_Layer_1'),\n",
    "            layers.MaxPooling2D(pool_size=(2, 2), name='MaxPool2D_Layer_1'),\n",
    "            layers.Conv2D(64, kernel_size=(3, 3), activation=\"relu\", name='Conv2D_Layer_2'),\n",
    "            layers.MaxPooling2D(pool_size=(2, 2), name='MaxPool2D_Layer_2'),\n",
    "            layers.Flatten(name='Flatten_Layer'),\n",
    "            layers.Dropout(0.5, name='Dropout_50_percent'),\n",
    "            layers.Dense(num_classes, activation=\"softmax\", name='Target_Layer'),\n",
    "        ]\n",
    "    )\n",
    "    if print_summary:\n",
    "        print(model.summary())\n",
    "    return model\n",
    "\n",
    "\n",
    "class MnistPredict:\n",
    "    \n",
    "    _data_dir: Path = Path.cwd().joinpath(r'data/MNIST')\n",
    "    _mnist_filename = 'mnist'\n",
    "    x_train = None\n",
    "    y_train = None\n",
    "    x_test = None\n",
    "    y_test = None\n",
    "    \n",
    "    _x_train_norm = None\n",
    "    _x_test_norm = None\n",
    "    \n",
    "    _labels = None\n",
    "    _model = None\n",
    "    \n",
    "    model_trained = False\n",
    "    \n",
    "    @property\n",
    "    def data_dir(self) -> Path:\n",
    "        _data_dir = Path(self._data_dir)\n",
    "        _data_dir.mkdir(parents=True, exist_ok=True)\n",
    "        return _data_dir\n",
    "    \n",
    "    @data_dir.setter\n",
    "    def data_dir(self, data_dir: str | None = None):\n",
    "        if data_dir is not None:\n",
    "            self._data_dir = data_dir\n",
    "    \n",
    "    @property\n",
    "    def mnist_path(self) -> Path:\n",
    "        return self.data_dir.joinpath(self.mnist_filename).with_suffix('.npz')\n",
    "    \n",
    "    @property\n",
    "    def mnist_filename(self) -> str:\n",
    "        mnist_filename = self._mnist_filename\n",
    "        if not isinstance(mnist_filename, str):\n",
    "            raise ValueError(f'_mnist_filename should be a string, not {type(mnist_filename)}')\n",
    "        return mnist_filename\n",
    "\n",
    "    @mnist_filename.setter\n",
    "    def mnist_filename(self, mnist_filename: str | None = None):\n",
    "        if mnist_filename is not None:\n",
    "            self._mnist_filename = mnist_filename\n",
    "            \n",
    "    @property\n",
    "    def labels(self) -> set:\n",
    "        if self.y_train is None and self.y_test is None:\n",
    "            raise ValueError(\n",
    "                'Load train/test images, executing method `load_data` before trying to build model.'\n",
    "            )\n",
    "        if self._labels is None:\n",
    "            self._labels = set(self.y_train)\n",
    "        return self._labels\n",
    "\n",
    "    @property\n",
    "    def num_labels(self) -> int:\n",
    "        return len(self.labels)\n",
    "    \n",
    "    @property\n",
    "    def model(self):\n",
    "        if self._model is None:\n",
    "            input_shape = (*self.x_train.shape[1:], 1)\n",
    "            model = create_model(input_shape, self.num_labels)\n",
    "            model.compile(loss=\"categorical_crossentropy\", optimizer=\"adam\", metrics=[\"accuracy\"])\n",
    "            self._model = model\n",
    "        return self._model\n",
    "    \n",
    "    @property\n",
    "    def x_train_norm(self):\n",
    "        if self._x_train_norm is None:\n",
    "            self._x_train_norm = self.normalize_images(self.x_train)\n",
    "        return self._x_train_norm\n",
    "    \n",
    "    @property\n",
    "    def x_test_norm(self):\n",
    "        if self._x_test_norm is None:\n",
    "            self._x_test_norm = self.normalize_images(self.x_test)\n",
    "        return self._x_test_norm\n",
    "    \n",
    "    def __init__(self, data_dir=None, mnist_filename=None):\n",
    "        self.data_dir = data_dir\n",
    "        self.mnist_filename = mnist_filename\n",
    "        self.load_data()\n",
    "    \n",
    "    def load_data(self):\n",
    "        (self.x_train, self.y_train), (self.x_test, self.y_test) = keras.datasets.mnist.load_data(\n",
    "            path=str(self.mnist_path)\n",
    "        )\n",
    "        \n",
    "    def normalize_images(self, images: np.ndarray) -> np.ndarray:\n",
    "        max_size = images.max()\n",
    "        if max_size > 1:\n",
    "            images = images.astype('float32')/255\n",
    "        return images.reshape(-1, 28, 28, 1)\n",
    "    \n",
    "    def normalize_labels(self, labels) -> np.ndarray:\n",
    "        if labels.max() > 1:\n",
    "            return keras.utils.to_categorical(labels, self.num_labels)\n",
    "        return labels\n",
    "\n",
    "    def train(self, x_train = None, y_train = None, batch_size=128, epochs=15, validation_split=0.1):\n",
    "        if x_train is None or y_train is None:\n",
    "            x_train = self.x_train_norm\n",
    "            y_train = self.y_train\n",
    "        y_train = self.normalize_labels(y_train)\n",
    "        self.model.fit(\n",
    "            x_train, \n",
    "            y_train, \n",
    "            batch_size=batch_size,\n",
    "            epochs=epochs, \n",
    "            validation_split=validation_split,\n",
    "        )\n",
    "        self.model_trained = True\n",
    "    \n",
    "    def evaluate(self, x_test = None, y_test = None):\n",
    "        if not self.model_trained:\n",
    "            raise ValueError(\n",
    "                'Model is not trained. Please train model before calling `evaluate` method.'\n",
    "            )\n",
    "        if x_test is None or y_test is None:\n",
    "            x_test = self.x_test_norm\n",
    "            y_test = self.y_test\n",
    "        y_test = self.normalize_labels(y_test)\n",
    "        score = self.model.evaluate(x_test, y_test, verbose=0)\n",
    "        \n",
    "        print(f\"Perdas durante o teste: \\033[94m\\033[1m{score[0]:.4f}\\033[0m\")\n",
    "        print(f\"Acurácia do teste:  \\033[94m\\033[1m{score[1]:.2%}\\033[0m\")\n"
   ]
  },
  {
   "cell_type": "code",
   "execution_count": 43,
   "id": "ed48e343-ff04-4c9b-b75c-a50e0ea4f5fa",
   "metadata": {
    "pycharm": {
     "name": "#%%\n"
    }
   },
   "outputs": [
    {
     "name": "stdout",
     "output_type": "stream",
     "text": [
      "Epoch 1/15\n",
      "422/422 [==============================] - 12s 29ms/step - loss: 0.3723 - accuracy: 0.8850 - val_loss: 0.0828 - val_accuracy: 0.9773\n",
      "Epoch 2/15\n",
      "422/422 [==============================] - 13s 31ms/step - loss: 0.1161 - accuracy: 0.9647 - val_loss: 0.0598 - val_accuracy: 0.9825\n",
      "Epoch 3/15\n",
      "422/422 [==============================] - 12s 29ms/step - loss: 0.0880 - accuracy: 0.9718 - val_loss: 0.0503 - val_accuracy: 0.9860\n",
      "Epoch 4/15\n",
      "422/422 [==============================] - 12s 29ms/step - loss: 0.0743 - accuracy: 0.9763 - val_loss: 0.0431 - val_accuracy: 0.9885\n",
      "Epoch 5/15\n",
      "422/422 [==============================] - 12s 29ms/step - loss: 0.0646 - accuracy: 0.9800 - val_loss: 0.0381 - val_accuracy: 0.9897\n",
      "Epoch 6/15\n",
      "422/422 [==============================] - 14s 32ms/step - loss: 0.0594 - accuracy: 0.9814 - val_loss: 0.0382 - val_accuracy: 0.9885\n",
      "Epoch 7/15\n",
      "422/422 [==============================] - 13s 30ms/step - loss: 0.0543 - accuracy: 0.9830 - val_loss: 0.0363 - val_accuracy: 0.9893\n",
      "Epoch 8/15\n",
      "422/422 [==============================] - 13s 31ms/step - loss: 0.0523 - accuracy: 0.9833 - val_loss: 0.0354 - val_accuracy: 0.9897\n",
      "Epoch 9/15\n",
      "422/422 [==============================] - 14s 34ms/step - loss: 0.0465 - accuracy: 0.9853 - val_loss: 0.0335 - val_accuracy: 0.9900\n",
      "Epoch 10/15\n",
      "422/422 [==============================] - 16s 38ms/step - loss: 0.0446 - accuracy: 0.9853 - val_loss: 0.0332 - val_accuracy: 0.9895\n",
      "Epoch 11/15\n",
      "422/422 [==============================] - 14s 32ms/step - loss: 0.0412 - accuracy: 0.9870 - val_loss: 0.0356 - val_accuracy: 0.9900\n",
      "Epoch 12/15\n",
      "422/422 [==============================] - 15s 35ms/step - loss: 0.0406 - accuracy: 0.9873 - val_loss: 0.0321 - val_accuracy: 0.9903\n",
      "Epoch 13/15\n",
      "422/422 [==============================] - 15s 35ms/step - loss: 0.0397 - accuracy: 0.9879 - val_loss: 0.0274 - val_accuracy: 0.9922\n",
      "Epoch 14/15\n",
      "422/422 [==============================] - 15s 36ms/step - loss: 0.0353 - accuracy: 0.9887 - val_loss: 0.0287 - val_accuracy: 0.9918\n",
      "Epoch 15/15\n",
      "422/422 [==============================] - 16s 39ms/step - loss: 0.0333 - accuracy: 0.9895 - val_loss: 0.0275 - val_accuracy: 0.9928\n",
      "Perdas durante o teste: \u001b[94m\u001b[1m0.0243\u001b[0m\n",
      "Acurácia do teste:  \u001b[94m\u001b[1m99.18%\u001b[0m\n"
     ]
    }
   ],
   "source": [
    "mnist_model = MnistPredict()\n",
    "mnist_model.train()\n",
    "mnist_model.evaluate()"
   ]
  },
  {
   "cell_type": "markdown",
   "id": "c9432b69-43c3-440c-b43c-09029bbc52aa",
   "metadata": {
    "pycharm": {
     "name": "#%% md\n"
    }
   },
   "source": [
    "# Conclusão\n",
    "\n",
    "O modelo criado foi capaz de aprender com alta acurácia, a reconhecer dígitos escritos à mão.\n",
    "\n",
    "\n",
    "Como observado em [Erros do modelo](#Erros-do-modelo), as imagens que o nosso modelo não foi capaz de prever corretamente, seriam extremamente difíceis de serem classificadas até mesmo por um humano treinado. Isso porque, elas se assemelham bastante à outros dígitos. Sendo assim, podemos classificá-las como \"outliers\"."
   ]
  }
 ],
 "metadata": {
  "kernelspec": {
   "display_name": "Python 3 (ipykernel)",
   "language": "python",
   "name": "python3"
  },
  "language_info": {
   "codemirror_mode": {
    "name": "ipython",
    "version": 3
   },
   "file_extension": ".py",
   "mimetype": "text/x-python",
   "name": "python",
   "nbconvert_exporter": "python",
   "pygments_lexer": "ipython3",
   "version": "3.8.8"
  },
  "toc-autonumbering": true,
  "toc-showmarkdowntxt": false,
  "toc-showtags": false,
  "widgets": {
   "application/vnd.jupyter.widget-state+json": {
    "state": {},
    "version_major": 2,
    "version_minor": 0
   }
  }
 },
 "nbformat": 4,
 "nbformat_minor": 5
}
