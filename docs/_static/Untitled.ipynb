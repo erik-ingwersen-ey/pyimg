{
 "cells": [
  {
   "cell_type": "code",
   "execution_count": 1,
   "id": "fc075c06-0c61-4644-a751-07b6eda295cc",
   "metadata": {},
   "outputs": [],
   "source": [
    "class EarlyStopCallback:\n",
    "    _min_accuracy: float = 0.9\n",
    "    \n",
    "    @property\n",
    "    def min_accuracy(self) -> float:\n",
    "        return self._min_accuracy\n",
    "    \n",
    "    @min_accuracy.setter\n",
    "    def min_accuracy(self, min_acc: float):\n",
    "        if isinstance(min_acc, float) and 0 < min_acc < 1:\n",
    "            self._min_accuracy = min_acc\n",
    "        else:\n",
    "            print(\n",
    "                f'O valor {min_acc} informado não é um número entre 0 e 1.'\n",
    "                'Parâmetro aceita apenas valores dentro deste range. '\n",
    "                f'Utilizando valor atual igual a {self.min_accuracy}.'\n",
    "            )\n",
    "\n",
    "    def __init__(self, **kwargs):\n",
    "        for kwarg, value in kwargs.items():\n",
    "            if hasattr(self, kwarg):\n",
    "                setattr(self, kwarg, value)\n",
    "\n",
    "    def on_epoch_end(self, epoch, logs={}):\n",
    "        if logs.get('val_accuracy') >= 0.90:\n",
    "            self.model.stop_training = True"
   ]
  },
  {
   "cell_type": "code",
   "execution_count": 4,
   "id": "b4a561ae-beb0-4daf-823d-b512238506b3",
   "metadata": {},
   "outputs": [],
   "source": [
    "e = EarlyStopCallback(min_accuracy=0.8)"
   ]
  },
  {
   "cell_type": "code",
   "execution_count": 5,
   "id": "3b51ddf4-02b6-4409-87f2-dc33270a5fde",
   "metadata": {},
   "outputs": [
    {
     "data": {
      "text/plain": [
       "0.8"
      ]
     },
     "execution_count": 5,
     "metadata": {},
     "output_type": "execute_result"
    }
   ],
   "source": [
    "e.min_accuracy"
   ]
  },
  {
   "cell_type": "code",
   "execution_count": null,
   "id": "6ca2ab12-3958-4b55-9617-f759a5adef77",
   "metadata": {},
   "outputs": [],
   "source": []
  }
 ],
 "metadata": {
  "kernelspec": {
   "display_name": "Python 3 (ipykernel)",
   "language": "python",
   "name": "python3"
  },
  "language_info": {
   "codemirror_mode": {
    "name": "ipython",
    "version": 3
   },
   "file_extension": ".py",
   "mimetype": "text/x-python",
   "name": "python",
   "nbconvert_exporter": "python",
   "pygments_lexer": "ipython3",
   "version": "3.8.8"
  }
 },
 "nbformat": 4,
 "nbformat_minor": 5
}
